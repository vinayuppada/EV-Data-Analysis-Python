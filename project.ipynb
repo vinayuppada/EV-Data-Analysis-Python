{
 "cells": [
  {
   "cell_type": "code",
   "execution_count": 3,
   "id": "8a738eb6-c1d8-441f-b848-ec1344d19b62",
   "metadata": {},
   "outputs": [
    {
     "name": "stdout",
     "output_type": "stream",
     "text": [
      "                        Car full name           Make  \\\n",
      "0              Audi e-tron 55 quattro           Audi   \n",
      "8                             BMW iX3            BMW   \n",
      "15        Hyundai Kona electric 64kWh        Hyundai   \n",
      "18                   Kia e-Niro 64kWh            Kia   \n",
      "20                   Kia e-Soul 64kWh            Kia   \n",
      "22                  Mercedes-Benz EQC  Mercedes-Benz   \n",
      "39  Tesla Model 3 Standard Range Plus          Tesla   \n",
      "40           Tesla Model 3 Long Range          Tesla   \n",
      "41          Tesla Model 3 Performance          Tesla   \n",
      "47    Volkswagen ID.3 Pro Performance     Volkswagen   \n",
      "48              Volkswagen ID.3 Pro S     Volkswagen   \n",
      "49                Volkswagen ID.4 1st     Volkswagen   \n",
      "\n",
      "                          Model  Minimal price (gross) [PLN]  \\\n",
      "0             e-tron 55 quattro                       345700   \n",
      "8                           iX3                       282900   \n",
      "15          Kona electric 64kWh                       178400   \n",
      "18                 e-Niro 64kWh                       167990   \n",
      "20                 e-Soul 64kWh                       160990   \n",
      "22                          EQC                       334700   \n",
      "39  Model 3 Standard Range Plus                       195490   \n",
      "40           Model 3 Long Range                       235490   \n",
      "41          Model 3 Performance                       260490   \n",
      "47         ID.3 Pro Performance                       155890   \n",
      "48                   ID.3 Pro S                       179990   \n",
      "49                     ID.4 1st                       202390   \n",
      "\n",
      "    Engine power [KM]  Maximum torque [Nm]              Type of brakes  \\\n",
      "0                 360                  664         disc (front + rear)   \n",
      "8                 286                  400         disc (front + rear)   \n",
      "15                204                  395         disc (front + rear)   \n",
      "18                204                  395         disc (front + rear)   \n",
      "20                204                  395         disc (front + rear)   \n",
      "22                408                  760         disc (front + rear)   \n",
      "39                285                  450         disc (front + rear)   \n",
      "40                372                  510         disc (front + rear)   \n",
      "41                480                  639         disc (front + rear)   \n",
      "47                204                  310  disc (front) + drum (rear)   \n",
      "48                204                  310  disc (front) + drum (rear)   \n",
      "49                204                  310  disc (front) + drum (rear)   \n",
      "\n",
      "     Drive type  Battery capacity [kWh]  Range (WLTP) [km]  ...  \\\n",
      "0           4WD                    95.0                438  ...   \n",
      "8    2WD (rear)                    80.0                460  ...   \n",
      "15  2WD (front)                    64.0                449  ...   \n",
      "18  2WD (front)                    64.0                455  ...   \n",
      "20  2WD (front)                    64.0                452  ...   \n",
      "22          4WD                    80.0                414  ...   \n",
      "39   2WD (rear)                    54.0                430  ...   \n",
      "40          4WD                    75.0                580  ...   \n",
      "41          4WD                    75.0                567  ...   \n",
      "47   2WD (rear)                    58.0                425  ...   \n",
      "48   2WD (rear)                    77.0                549  ...   \n",
      "49   2WD (rear)                    77.0                500  ...   \n",
      "\n",
      "    Permissable gross weight [kg]  Maximum load capacity [kg]  \\\n",
      "0                          3130.0                       640.0   \n",
      "8                          2725.0                       540.0   \n",
      "15                         2170.0                       485.0   \n",
      "18                         2230.0                       493.0   \n",
      "20                         1682.0                       498.0   \n",
      "22                         2940.0                       445.0   \n",
      "39                            NaN                         NaN   \n",
      "40                            NaN                         NaN   \n",
      "41                            NaN                         NaN   \n",
      "47                         2270.0                       540.0   \n",
      "48                         2280.0                       412.0   \n",
      "49                         2660.0                       661.0   \n",
      "\n",
      "    Number of seats  Number of doors  Tire size [in]  Maximum speed [kph]  \\\n",
      "0                 5                5              19                  200   \n",
      "8                 5                5              19                  180   \n",
      "15                5                5              17                  167   \n",
      "18                5                5              17                  167   \n",
      "20                5                5              17                  167   \n",
      "22                5                5              19                  180   \n",
      "39                5                5              18                  225   \n",
      "40                5                5              18                  233   \n",
      "41                5                5              20                  261   \n",
      "47                5                5              18                  160   \n",
      "48                5                5              19                  160   \n",
      "49                5                5              20                  160   \n",
      "\n",
      "    Boot capacity (VDA) [l]  Acceleration 0-100 kph [s]  \\\n",
      "0                     660.0                         5.7   \n",
      "8                     510.0                         6.8   \n",
      "15                    332.0                         7.6   \n",
      "18                    451.0                         7.8   \n",
      "20                    315.0                         7.9   \n",
      "22                    500.0                         5.1   \n",
      "39                    425.0                         5.6   \n",
      "40                    425.0                         4.4   \n",
      "41                    425.0                         3.3   \n",
      "47                    385.0                         7.3   \n",
      "48                    385.0                         7.9   \n",
      "49                    543.0                         8.5   \n",
      "\n",
      "    Maximum DC charging power [kW]  mean - Energy consumption [kWh/100 km]  \n",
      "0                              150                                   24.45  \n",
      "8                              150                                   18.80  \n",
      "15                             100                                   15.40  \n",
      "18                             100                                   15.90  \n",
      "20                             100                                   15.70  \n",
      "22                             110                                   21.85  \n",
      "39                             150                                     NaN  \n",
      "40                             150                                     NaN  \n",
      "41                             150                                     NaN  \n",
      "47                             100                                   15.40  \n",
      "48                             125                                   15.90  \n",
      "49                             125                                   18.00  \n",
      "\n",
      "[12 rows x 25 columns]\n"
     ]
    }
   ],
   "source": [
    "\"\"\"                                                 Electric Vehicle Data Analysis Project\n",
    "\n",
    "Task 1: A customer has a budget of 350,000 PLN and wants an EV with a minimum range\n",
    "of 400 km.\n",
    "a) Your task is to filter out EVs that meet these criteria.(2 Marks)\n",
    "b) Group them by the manufacturer (Make).(6 marks)\n",
    "c) Calculate the average battery capacity for each manufacturer. (8 Marks)\"\"\"\n",
    "import pandas as pd\n",
    "EV_df=pd.read_excel(\"FEV-data-Excel.xlsx\")\n",
    "B_EV=EV_df[(EV_df[\"Minimal price (gross) [PLN]\"]<=350000) & (EV_df[\"Range (WLTP) [km]\"]>400)] \n",
    "print(B_EV)"
   ]
  },
  {
   "cell_type": "code",
   "execution_count": 15,
   "id": "ef132485-5df5-41b3-a719-37da68eca80c",
   "metadata": {},
   "outputs": [
    {
     "name": "stdout",
     "output_type": "stream",
     "text": [
      "Make\n",
      "Audi             87.000000\n",
      "BMW              54.800000\n",
      "Citroën          50.000000\n",
      "DS               50.000000\n",
      "Honda            35.500000\n",
      "Hyundai          47.166667\n",
      "Jaguar           90.000000\n",
      "Kia              51.600000\n",
      "Mazda            35.500000\n",
      "Mercedes-Benz    85.000000\n",
      "Mini             28.900000\n",
      "Nissan           47.333333\n",
      "Opel             50.000000\n",
      "Peugeot          50.000000\n",
      "Porsche          89.850000\n",
      "Renault          52.000000\n",
      "Skoda            36.800000\n",
      "Smart            17.600000\n",
      "Tesla            86.285714\n",
      "Volkswagen       61.075000\n",
      "Name: Battery capacity [kWh], dtype: float64\n"
     ]
    }
   ],
   "source": [
    "G_EV=EV_df.groupby(\"Make\")[\"Battery capacity [kWh]\"].mean()\n",
    "print(G_EV)"
   ]
  },
  {
   "cell_type": "code",
   "execution_count": 4,
   "id": "88f4e121-3f13-4eae-8673-189315e85ded",
   "metadata": {},
   "outputs": [
    {
     "name": "stdout",
     "output_type": "stream",
     "text": [
      "Empty DataFrame\n",
      "Columns: [Car full name, mean - Energy consumption [kWh/100 km]]\n",
      "Index: []\n",
      "\n",
      "\n",
      "\n",
      "\n",
      "\n",
      "\n",
      "               Car full name  mean - Energy consumption [kWh/100 km]\n",
      "51  Mercedes-Benz EQV (long)                                    28.2\n"
     ]
    }
   ],
   "source": [
    "\"\"\"Task 2: You suspect some EVs have unusually high or low energy consumption. Find the\n",
    "outliers in the mean - Energy consumption [kWh/100 km] column.(16 Marks)\"\"\"\n",
    "\n",
    "\n",
    "\"\"\"Emprical rule the date we are assuming is normal distribution\"\"\"\n",
    "NewEnergy='mean - Energy consumption [kWh/100 km]'\n",
    "m_NE=EV_df[NewEnergy].mean()\n",
    "std_NE=EV_df[NewEnergy].std()\n",
    "ll=m_NE-3*std_NE\n",
    "hl=m_NE+3*std_NE\n",
    "outliers = EV_df[(EV_df[NewEnergy] < ll) | (EV_df[NewEnergy] > hl)]\n",
    "\n",
    "print(outliers[['Car full name', NewEnergy]])\n",
    "\n",
    "print(\"\\n\")\n",
    "print(\"\\n\")\n",
    "print(\"\\n\")\n",
    "\n",
    "# while considering   (mean-2*std_dev)\n",
    "NewEnergy='mean - Energy consumption [kWh/100 km]'\n",
    "m_NE=EV_df[NewEnergy].mean()\n",
    "std_NE=EV_df[NewEnergy].std()\n",
    "ll=m_NE-2*std_NE\n",
    "hl=m_NE+2*std_NE\n",
    "outliers = EV_df[(EV_df[NewEnergy] < ll) | (EV_df[NewEnergy] > hl)]\n",
    "\n",
    "print(outliers[['Car full name', NewEnergy]])"
   ]
  },
  {
   "cell_type": "code",
   "execution_count": 5,
   "id": "09c08fbb-fee9-470b-aa28-a87aa6ad7e48",
   "metadata": {
    "scrolled": true
   },
   "outputs": [
    {
     "name": "stdout",
     "output_type": "stream",
     "text": [
      "Outliers in Energy Consumption:\n",
      " Empty DataFrame\n",
      "Columns: [Car full name, mean - Energy consumption [kWh/100 km]]\n",
      "Index: []\n"
     ]
    }
   ],
   "source": [
    "# Task 2 Alternate method\n",
    "\n",
    "NewEnergy = 'mean - Energy consumption [kWh/100 km]'\n",
    "Q1 = EV_df[NewEnergy].quantile(0.25)\n",
    "Q3 = EV_df[NewEnergy].quantile(0.75)\n",
    "IQR = Q3 - Q1\n",
    "\n",
    "outliers = EV_df[(EV_df[NewEnergy] < (Q1 - 1.5 * IQR)) | (EV_df[NewEnergy] > (Q3 + 1.5 * IQR))]\n",
    "print(\"Outliers in Energy Consumption:\\n\", outliers[['Car full name', NewEnergy]])"
   ]
  },
  {
   "cell_type": "code",
   "execution_count": 11,
   "id": "2d78265a-2f3d-42b6-b3d1-73395c698b43",
   "metadata": {},
   "outputs": [
    {
     "data": {
      "image/png": "[encoded data removed]",
      "text/plain": [
       "<Figure size 640x480 with 1 Axes>"
      ]
     },
     "metadata": {},
     "output_type": "display_data"
    },
    {
     "name": "stdout",
     "output_type": "stream",
     "text": [
      "Most of the points align diagonally and there is a positive correlation between battery capacity and range.\n"
     ]
    }
   ],
   "source": [
    "\"\"\"Task 3: Your manager wants to know if there's a strong RELATIONSHIP between battery\n",
    "capacity and range.\n",
    "a) Create a suitable plot to visualize.(8 Marks)\n",
    "b) Highlight any insights.(8 Marks)\"\"\"\n",
    "\n",
    "import matplotlib.pyplot as plt\n",
    "\n",
    "plt.scatter(EV_df['Battery capacity [kWh]'],EV_df['Range (WLTP) [km]'],color='red')\n",
    "plt.title(\"Relationship between battery capacity and range\")\n",
    "plt.xlabel('Battery Capacity')\n",
    "plt.ylabel('Range')\n",
    "\n",
    "plt.grid(True)\n",
    "plt.show()\n",
    "print(\"Most of the points align diagonally and there is a positive correlation between battery capacity and range.\")"
   ]
  },
  {
   "cell_type": "code",
   "execution_count": 12,
   "id": "ccab3805-8959-41a3-bcba-37b8eb6ca5b0",
   "metadata": {},
   "outputs": [
    {
     "name": "stdout",
     "output_type": "stream",
     "text": [
      "Top 3 EV Recommendations:\n",
      "                 Car full name  Minimal price (gross) [PLN]  Range (WLTP) [km]  \\\n",
      "8                     BMW iX3                       282900                460   \n",
      "41  Tesla Model 3 Performance                       260490                567   \n",
      "40   Tesla Model 3 Long Range                       235490                580   \n",
      "\n",
      "    Battery capacity [kWh]  \n",
      "8                     80.0  \n",
      "41                    75.0  \n",
      "40                    75.0  \n"
     ]
    }
   ],
   "source": [
    "\"\"\"Task 4: Build an EV recommendation class. The class should allow users to input their\n",
    "budget, desired range, and battery capacity. The class should then return the top three EVs\n",
    "matching their criteria. (8+8 Marks)\"\"\"\n",
    "class recommendation:\n",
    "    def __init__(self,EV_df):\n",
    "        self.EV_df=EV_df\n",
    "       \n",
    "\n",
    "    \n",
    "\n",
    "    def EV_rec(self,budget,D_range,B_Capacity):\n",
    "        list= self.EV_df[(self.EV_df['Minimal price (gross) [PLN]']<=budget) & (self.EV_df['Range (WLTP) [km]']>=D_range) & (self.EV_df['Battery capacity [kWh]']>=B_Capacity)]\n",
    "        return list.sort_values(by='Minimal price (gross) [PLN]', ascending=False).head(3)   \n",
    "\n",
    "\n",
    "r = recommendation(EV_df)\n",
    "r1 = r.EV_rec(300000, 200, 55)\n",
    "print(\"Top 3 EV Recommendations:\\n\", r1[['Car full name', 'Minimal price (gross) [PLN]', 'Range (WLTP) [km]','Battery capacity [kWh]']])"
   ]
  },
  {
   "cell_type": "code",
   "execution_count": 107,
   "id": "52424e7d-0780-41f9-b9ae-d77c886830f9",
   "metadata": {},
   "outputs": [
    {
     "name": "stdout",
     "output_type": "stream",
     "text": [
      "T-Statistic: 1.7939951827297178, P-Value: 0.10684105068839565\n",
      "Conclusion:As p value is greater than 0.05.So no significant difference in the average engine power between Tesla and Audi.\n"
     ]
    }
   ],
   "source": [
    "\"\"\"Task 5: Inferential Statistics – Hypothesis Testing: Test whether there is a significant\n",
    "difference in the average Engine power [KM] of vehicles manufactured by two leading\n",
    "manufacturers i.e. Tesla and Audi. What insights can you draw from the test results?\n",
    "Recommendations and Conclusion: Provide actionable insights based on your analysis.\n",
    "(Conduct a two sample t-test using ttest_ind from scipy.stats module) (16 Marks)\"\"\"\n",
    "\n",
    "from scipy.stats import ttest_ind\n",
    "t_data = EV_df[EV_df['Make'] == 'Tesla']['Engine power [KM]']\n",
    "a_data = EV_df[EV_df['Make'] == 'Audi']['Engine power [KM]']\n",
    "\n",
    "t_stat, p_value = ttest_ind(t_data, a_data, equal_var=False)\n",
    "print(f\"T-Statistic: {t_stat}, P-Value: {p_value}\")\n",
    "if p_value < 0.05:\n",
    "    print(\"Conclusion: There is a significant difference in the average engine power between Tesla and Audi.\")\n",
    "else:\n",
    "    print(\"Conclusion:As p value is greater than 0.05.So no significant difference in the average engine power between Tesla and Audi.\")\n"
   ]
  },
  {
   "cell_type": "code",
   "execution_count": null,
   "id": "e1aad363-faad-4f07-8d1a-cd9c2a916ff3",
   "metadata": {},
   "outputs": [],
   "source": [
    "                                    \"\"\"video link\"\"\"\n",
    "\n",
    "\"\"\"https://drive.google.com/file/d/1nY3K4Knxpx--Z1Er8wBaReHvxKQYKKNb/view?usp=sharing\"\"\"\n",
    "\n"
   ]
  }
 ],
 "metadata": {
  "kernelspec": {
   "display_name": "Python 3 (ipykernel)",
   "language": "python",
   "name": "python3"
  },
  "language_info": {
   "codemirror_mode": {
    "name": "ipython",
    "version": 3
   },
   "file_extension": ".py",
   "mimetype": "text/x-python",
   "name": "python",
   "nbconvert_exporter": "python",
   "pygments_lexer": "ipython3",
   "version": "3.12.7"
  }
 },
 "nbformat": 4,
 "nbformat_minor": 5
}
